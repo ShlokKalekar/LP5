{
 "cells": [
  {
   "cell_type": "code",
   "execution_count": 1,
   "id": "36e90601",
   "metadata": {},
   "outputs": [],
   "source": [
    "import pandas as pd\n",
    "import matplotlib.pyplot as plt"
   ]
  },
  {
   "cell_type": "markdown",
   "id": "09c0d469",
   "metadata": {},
   "source": [
    "### Load Dataset"
   ]
  },
  {
   "cell_type": "code",
   "execution_count": 2,
   "id": "64638d93",
   "metadata": {},
   "outputs": [
    {
     "data": {
      "text/html": [
       "<div>\n",
       "<style scoped>\n",
       "    .dataframe tbody tr th:only-of-type {\n",
       "        vertical-align: middle;\n",
       "    }\n",
       "\n",
       "    .dataframe tbody tr th {\n",
       "        vertical-align: top;\n",
       "    }\n",
       "\n",
       "    .dataframe thead th {\n",
       "        text-align: right;\n",
       "    }\n",
       "</style>\n",
       "<table border=\"1\" class=\"dataframe\">\n",
       "  <thead>\n",
       "    <tr style=\"text-align: right;\">\n",
       "      <th></th>\n",
       "      <th>CRIM</th>\n",
       "      <th>ZN</th>\n",
       "      <th>INDUS</th>\n",
       "      <th>CHAS</th>\n",
       "      <th>NOX</th>\n",
       "      <th>RM</th>\n",
       "      <th>AGE</th>\n",
       "      <th>DIS</th>\n",
       "      <th>RAD</th>\n",
       "      <th>TAX</th>\n",
       "      <th>PTRATIO</th>\n",
       "      <th>B</th>\n",
       "      <th>LSTAT</th>\n",
       "      <th>MEDV</th>\n",
       "      <th>CAT. MEDV</th>\n",
       "      <th>Unnamed: 15</th>\n",
       "      <th>Unnamed: 16</th>\n",
       "    </tr>\n",
       "  </thead>\n",
       "  <tbody>\n",
       "    <tr>\n",
       "      <th>0</th>\n",
       "      <td>0.00632</td>\n",
       "      <td>18.0</td>\n",
       "      <td>2.31</td>\n",
       "      <td>0</td>\n",
       "      <td>0.538</td>\n",
       "      <td>6.575</td>\n",
       "      <td>65.2</td>\n",
       "      <td>4.0900</td>\n",
       "      <td>1</td>\n",
       "      <td>296</td>\n",
       "      <td>15.3</td>\n",
       "      <td>396.90</td>\n",
       "      <td>4.98</td>\n",
       "      <td>24.0</td>\n",
       "      <td>0</td>\n",
       "      <td>NaN</td>\n",
       "      <td>NaN</td>\n",
       "    </tr>\n",
       "    <tr>\n",
       "      <th>1</th>\n",
       "      <td>0.02731</td>\n",
       "      <td>0.0</td>\n",
       "      <td>7.07</td>\n",
       "      <td>0</td>\n",
       "      <td>0.469</td>\n",
       "      <td>6.421</td>\n",
       "      <td>78.9</td>\n",
       "      <td>4.9671</td>\n",
       "      <td>2</td>\n",
       "      <td>242</td>\n",
       "      <td>17.8</td>\n",
       "      <td>396.90</td>\n",
       "      <td>9.14</td>\n",
       "      <td>21.6</td>\n",
       "      <td>0</td>\n",
       "      <td>NaN</td>\n",
       "      <td>NaN</td>\n",
       "    </tr>\n",
       "    <tr>\n",
       "      <th>2</th>\n",
       "      <td>0.02729</td>\n",
       "      <td>0.0</td>\n",
       "      <td>7.07</td>\n",
       "      <td>0</td>\n",
       "      <td>0.469</td>\n",
       "      <td>7.185</td>\n",
       "      <td>61.1</td>\n",
       "      <td>4.9671</td>\n",
       "      <td>2</td>\n",
       "      <td>242</td>\n",
       "      <td>17.8</td>\n",
       "      <td>392.83</td>\n",
       "      <td>4.03</td>\n",
       "      <td>34.7</td>\n",
       "      <td>1</td>\n",
       "      <td>NaN</td>\n",
       "      <td>NaN</td>\n",
       "    </tr>\n",
       "    <tr>\n",
       "      <th>3</th>\n",
       "      <td>0.03237</td>\n",
       "      <td>0.0</td>\n",
       "      <td>2.18</td>\n",
       "      <td>0</td>\n",
       "      <td>0.458</td>\n",
       "      <td>6.998</td>\n",
       "      <td>45.8</td>\n",
       "      <td>6.0622</td>\n",
       "      <td>3</td>\n",
       "      <td>222</td>\n",
       "      <td>18.7</td>\n",
       "      <td>394.63</td>\n",
       "      <td>2.94</td>\n",
       "      <td>33.4</td>\n",
       "      <td>1</td>\n",
       "      <td>NaN</td>\n",
       "      <td>NaN</td>\n",
       "    </tr>\n",
       "    <tr>\n",
       "      <th>4</th>\n",
       "      <td>0.06905</td>\n",
       "      <td>0.0</td>\n",
       "      <td>2.18</td>\n",
       "      <td>0</td>\n",
       "      <td>0.458</td>\n",
       "      <td>7.147</td>\n",
       "      <td>54.2</td>\n",
       "      <td>6.0622</td>\n",
       "      <td>3</td>\n",
       "      <td>222</td>\n",
       "      <td>18.7</td>\n",
       "      <td>396.90</td>\n",
       "      <td>5.33</td>\n",
       "      <td>36.2</td>\n",
       "      <td>1</td>\n",
       "      <td>NaN</td>\n",
       "      <td>NaN</td>\n",
       "    </tr>\n",
       "    <tr>\n",
       "      <th>5</th>\n",
       "      <td>0.02985</td>\n",
       "      <td>0.0</td>\n",
       "      <td>2.18</td>\n",
       "      <td>0</td>\n",
       "      <td>0.458</td>\n",
       "      <td>6.430</td>\n",
       "      <td>58.7</td>\n",
       "      <td>6.0622</td>\n",
       "      <td>3</td>\n",
       "      <td>222</td>\n",
       "      <td>18.7</td>\n",
       "      <td>394.12</td>\n",
       "      <td>5.21</td>\n",
       "      <td>28.7</td>\n",
       "      <td>0</td>\n",
       "      <td>NaN</td>\n",
       "      <td>NaN</td>\n",
       "    </tr>\n",
       "    <tr>\n",
       "      <th>6</th>\n",
       "      <td>0.08829</td>\n",
       "      <td>12.5</td>\n",
       "      <td>7.87</td>\n",
       "      <td>0</td>\n",
       "      <td>0.524</td>\n",
       "      <td>6.012</td>\n",
       "      <td>66.6</td>\n",
       "      <td>5.5605</td>\n",
       "      <td>5</td>\n",
       "      <td>311</td>\n",
       "      <td>15.2</td>\n",
       "      <td>395.60</td>\n",
       "      <td>12.43</td>\n",
       "      <td>22.9</td>\n",
       "      <td>0</td>\n",
       "      <td>NaN</td>\n",
       "      <td>NaN</td>\n",
       "    </tr>\n",
       "    <tr>\n",
       "      <th>7</th>\n",
       "      <td>0.14455</td>\n",
       "      <td>12.5</td>\n",
       "      <td>7.87</td>\n",
       "      <td>0</td>\n",
       "      <td>0.524</td>\n",
       "      <td>6.172</td>\n",
       "      <td>96.1</td>\n",
       "      <td>5.9505</td>\n",
       "      <td>5</td>\n",
       "      <td>311</td>\n",
       "      <td>15.2</td>\n",
       "      <td>396.90</td>\n",
       "      <td>19.15</td>\n",
       "      <td>27.1</td>\n",
       "      <td>0</td>\n",
       "      <td>NaN</td>\n",
       "      <td>NaN</td>\n",
       "    </tr>\n",
       "    <tr>\n",
       "      <th>8</th>\n",
       "      <td>0.21124</td>\n",
       "      <td>12.5</td>\n",
       "      <td>7.87</td>\n",
       "      <td>0</td>\n",
       "      <td>0.524</td>\n",
       "      <td>5.631</td>\n",
       "      <td>100.0</td>\n",
       "      <td>6.0821</td>\n",
       "      <td>5</td>\n",
       "      <td>311</td>\n",
       "      <td>15.2</td>\n",
       "      <td>386.63</td>\n",
       "      <td>29.93</td>\n",
       "      <td>16.5</td>\n",
       "      <td>0</td>\n",
       "      <td>NaN</td>\n",
       "      <td>NaN</td>\n",
       "    </tr>\n",
       "    <tr>\n",
       "      <th>9</th>\n",
       "      <td>0.17004</td>\n",
       "      <td>12.5</td>\n",
       "      <td>7.87</td>\n",
       "      <td>0</td>\n",
       "      <td>0.524</td>\n",
       "      <td>6.004</td>\n",
       "      <td>85.9</td>\n",
       "      <td>6.5921</td>\n",
       "      <td>5</td>\n",
       "      <td>311</td>\n",
       "      <td>15.2</td>\n",
       "      <td>386.71</td>\n",
       "      <td>17.10</td>\n",
       "      <td>18.9</td>\n",
       "      <td>0</td>\n",
       "      <td>NaN</td>\n",
       "      <td>NaN</td>\n",
       "    </tr>\n",
       "  </tbody>\n",
       "</table>\n",
       "</div>"
      ],
      "text/plain": [
       "      CRIM    ZN  INDUS  CHAS    NOX     RM    AGE     DIS  RAD  TAX  PTRATIO   \n",
       "0  0.00632  18.0   2.31     0  0.538  6.575   65.2  4.0900    1  296     15.3  \\\n",
       "1  0.02731   0.0   7.07     0  0.469  6.421   78.9  4.9671    2  242     17.8   \n",
       "2  0.02729   0.0   7.07     0  0.469  7.185   61.1  4.9671    2  242     17.8   \n",
       "3  0.03237   0.0   2.18     0  0.458  6.998   45.8  6.0622    3  222     18.7   \n",
       "4  0.06905   0.0   2.18     0  0.458  7.147   54.2  6.0622    3  222     18.7   \n",
       "5  0.02985   0.0   2.18     0  0.458  6.430   58.7  6.0622    3  222     18.7   \n",
       "6  0.08829  12.5   7.87     0  0.524  6.012   66.6  5.5605    5  311     15.2   \n",
       "7  0.14455  12.5   7.87     0  0.524  6.172   96.1  5.9505    5  311     15.2   \n",
       "8  0.21124  12.5   7.87     0  0.524  5.631  100.0  6.0821    5  311     15.2   \n",
       "9  0.17004  12.5   7.87     0  0.524  6.004   85.9  6.5921    5  311     15.2   \n",
       "\n",
       "        B  LSTAT  MEDV  CAT. MEDV  Unnamed: 15  Unnamed: 16  \n",
       "0  396.90   4.98  24.0          0          NaN          NaN  \n",
       "1  396.90   9.14  21.6          0          NaN          NaN  \n",
       "2  392.83   4.03  34.7          1          NaN          NaN  \n",
       "3  394.63   2.94  33.4          1          NaN          NaN  \n",
       "4  396.90   5.33  36.2          1          NaN          NaN  \n",
       "5  394.12   5.21  28.7          0          NaN          NaN  \n",
       "6  395.60  12.43  22.9          0          NaN          NaN  \n",
       "7  396.90  19.15  27.1          0          NaN          NaN  \n",
       "8  386.63  29.93  16.5          0          NaN          NaN  \n",
       "9  386.71  17.10  18.9          0          NaN          NaN  "
      ]
     },
     "execution_count": 2,
     "metadata": {},
     "output_type": "execute_result"
    }
   ],
   "source": [
    "df = pd.read_csv('Boston.csv')\n",
    "df.head(10)"
   ]
  },
  {
   "cell_type": "code",
   "execution_count": 3,
   "id": "55426a1b",
   "metadata": {},
   "outputs": [],
   "source": [
    "df.drop(columns=['Unnamed: 15','Unnamed: 16'],inplace=True)"
   ]
  },
  {
   "cell_type": "code",
   "execution_count": 4,
   "id": "dade5278",
   "metadata": {},
   "outputs": [],
   "source": [
    "df.drop(columns=['CAT. MEDV'],inplace=True)"
   ]
  },
  {
   "cell_type": "markdown",
   "id": "17d566fe",
   "metadata": {},
   "source": [
    "#### Checking for null values"
   ]
  },
  {
   "cell_type": "code",
   "execution_count": 5,
   "id": "e4792737",
   "metadata": {},
   "outputs": [
    {
     "data": {
      "text/plain": [
       "CRIM       0\n",
       "ZN         0\n",
       "INDUS      0\n",
       "CHAS       0\n",
       "NOX        0\n",
       "RM         0\n",
       "AGE        0\n",
       "DIS        0\n",
       "RAD        0\n",
       "TAX        0\n",
       "PTRATIO    0\n",
       "B          0\n",
       "LSTAT      0\n",
       "MEDV       0\n",
       "dtype: int64"
      ]
     },
     "execution_count": 5,
     "metadata": {},
     "output_type": "execute_result"
    }
   ],
   "source": [
    "df.isnull().sum()"
   ]
  },
  {
   "cell_type": "code",
   "execution_count": 6,
   "id": "036b309e",
   "metadata": {},
   "outputs": [
    {
     "name": "stdout",
     "output_type": "stream",
     "text": [
      "<class 'pandas.core.frame.DataFrame'>\n",
      "RangeIndex: 506 entries, 0 to 505\n",
      "Data columns (total 14 columns):\n",
      " #   Column   Non-Null Count  Dtype  \n",
      "---  ------   --------------  -----  \n",
      " 0   CRIM     506 non-null    float64\n",
      " 1   ZN       506 non-null    float64\n",
      " 2   INDUS    506 non-null    float64\n",
      " 3   CHAS     506 non-null    int64  \n",
      " 4   NOX      506 non-null    float64\n",
      " 5   RM       506 non-null    float64\n",
      " 6   AGE      506 non-null    float64\n",
      " 7   DIS      506 non-null    float64\n",
      " 8   RAD      506 non-null    int64  \n",
      " 9   TAX      506 non-null    int64  \n",
      " 10  PTRATIO  506 non-null    float64\n",
      " 11  B        506 non-null    float64\n",
      " 12  LSTAT    506 non-null    float64\n",
      " 13  MEDV     506 non-null    float64\n",
      "dtypes: float64(11), int64(3)\n",
      "memory usage: 55.5 KB\n"
     ]
    }
   ],
   "source": [
    "df.info()"
   ]
  },
  {
   "cell_type": "code",
   "execution_count": 7,
   "id": "851ae670",
   "metadata": {},
   "outputs": [
    {
     "data": {
      "text/html": [
       "<div>\n",
       "<style scoped>\n",
       "    .dataframe tbody tr th:only-of-type {\n",
       "        vertical-align: middle;\n",
       "    }\n",
       "\n",
       "    .dataframe tbody tr th {\n",
       "        vertical-align: top;\n",
       "    }\n",
       "\n",
       "    .dataframe thead th {\n",
       "        text-align: right;\n",
       "    }\n",
       "</style>\n",
       "<table border=\"1\" class=\"dataframe\">\n",
       "  <thead>\n",
       "    <tr style=\"text-align: right;\">\n",
       "      <th></th>\n",
       "      <th>CRIM</th>\n",
       "      <th>ZN</th>\n",
       "      <th>INDUS</th>\n",
       "      <th>CHAS</th>\n",
       "      <th>NOX</th>\n",
       "      <th>RM</th>\n",
       "      <th>AGE</th>\n",
       "      <th>DIS</th>\n",
       "      <th>RAD</th>\n",
       "      <th>TAX</th>\n",
       "      <th>PTRATIO</th>\n",
       "      <th>B</th>\n",
       "      <th>LSTAT</th>\n",
       "      <th>MEDV</th>\n",
       "    </tr>\n",
       "  </thead>\n",
       "  <tbody>\n",
       "    <tr>\n",
       "      <th>count</th>\n",
       "      <td>506.000000</td>\n",
       "      <td>506.000000</td>\n",
       "      <td>506.000000</td>\n",
       "      <td>506.000000</td>\n",
       "      <td>506.000000</td>\n",
       "      <td>506.000000</td>\n",
       "      <td>506.000000</td>\n",
       "      <td>506.000000</td>\n",
       "      <td>506.000000</td>\n",
       "      <td>506.000000</td>\n",
       "      <td>506.000000</td>\n",
       "      <td>506.000000</td>\n",
       "      <td>506.000000</td>\n",
       "      <td>506.000000</td>\n",
       "    </tr>\n",
       "    <tr>\n",
       "      <th>mean</th>\n",
       "      <td>3.613524</td>\n",
       "      <td>11.363636</td>\n",
       "      <td>11.136779</td>\n",
       "      <td>0.069170</td>\n",
       "      <td>0.554695</td>\n",
       "      <td>6.284634</td>\n",
       "      <td>68.574901</td>\n",
       "      <td>3.795043</td>\n",
       "      <td>9.549407</td>\n",
       "      <td>408.237154</td>\n",
       "      <td>18.455534</td>\n",
       "      <td>356.674032</td>\n",
       "      <td>12.653063</td>\n",
       "      <td>22.532806</td>\n",
       "    </tr>\n",
       "    <tr>\n",
       "      <th>std</th>\n",
       "      <td>8.601545</td>\n",
       "      <td>23.322453</td>\n",
       "      <td>6.860353</td>\n",
       "      <td>0.253994</td>\n",
       "      <td>0.115878</td>\n",
       "      <td>0.702617</td>\n",
       "      <td>28.148861</td>\n",
       "      <td>2.105710</td>\n",
       "      <td>8.707259</td>\n",
       "      <td>168.537116</td>\n",
       "      <td>2.164946</td>\n",
       "      <td>91.294864</td>\n",
       "      <td>7.141062</td>\n",
       "      <td>9.197104</td>\n",
       "    </tr>\n",
       "    <tr>\n",
       "      <th>min</th>\n",
       "      <td>0.006320</td>\n",
       "      <td>0.000000</td>\n",
       "      <td>0.460000</td>\n",
       "      <td>0.000000</td>\n",
       "      <td>0.385000</td>\n",
       "      <td>3.561000</td>\n",
       "      <td>2.900000</td>\n",
       "      <td>1.129600</td>\n",
       "      <td>1.000000</td>\n",
       "      <td>187.000000</td>\n",
       "      <td>12.600000</td>\n",
       "      <td>0.320000</td>\n",
       "      <td>1.730000</td>\n",
       "      <td>5.000000</td>\n",
       "    </tr>\n",
       "    <tr>\n",
       "      <th>25%</th>\n",
       "      <td>0.082045</td>\n",
       "      <td>0.000000</td>\n",
       "      <td>5.190000</td>\n",
       "      <td>0.000000</td>\n",
       "      <td>0.449000</td>\n",
       "      <td>5.885500</td>\n",
       "      <td>45.025000</td>\n",
       "      <td>2.100175</td>\n",
       "      <td>4.000000</td>\n",
       "      <td>279.000000</td>\n",
       "      <td>17.400000</td>\n",
       "      <td>375.377500</td>\n",
       "      <td>6.950000</td>\n",
       "      <td>17.025000</td>\n",
       "    </tr>\n",
       "    <tr>\n",
       "      <th>50%</th>\n",
       "      <td>0.256510</td>\n",
       "      <td>0.000000</td>\n",
       "      <td>9.690000</td>\n",
       "      <td>0.000000</td>\n",
       "      <td>0.538000</td>\n",
       "      <td>6.208500</td>\n",
       "      <td>77.500000</td>\n",
       "      <td>3.207450</td>\n",
       "      <td>5.000000</td>\n",
       "      <td>330.000000</td>\n",
       "      <td>19.050000</td>\n",
       "      <td>391.440000</td>\n",
       "      <td>11.360000</td>\n",
       "      <td>21.200000</td>\n",
       "    </tr>\n",
       "    <tr>\n",
       "      <th>75%</th>\n",
       "      <td>3.677083</td>\n",
       "      <td>12.500000</td>\n",
       "      <td>18.100000</td>\n",
       "      <td>0.000000</td>\n",
       "      <td>0.624000</td>\n",
       "      <td>6.623500</td>\n",
       "      <td>94.075000</td>\n",
       "      <td>5.188425</td>\n",
       "      <td>24.000000</td>\n",
       "      <td>666.000000</td>\n",
       "      <td>20.200000</td>\n",
       "      <td>396.225000</td>\n",
       "      <td>16.955000</td>\n",
       "      <td>25.000000</td>\n",
       "    </tr>\n",
       "    <tr>\n",
       "      <th>max</th>\n",
       "      <td>88.976200</td>\n",
       "      <td>100.000000</td>\n",
       "      <td>27.740000</td>\n",
       "      <td>1.000000</td>\n",
       "      <td>0.871000</td>\n",
       "      <td>8.780000</td>\n",
       "      <td>100.000000</td>\n",
       "      <td>12.126500</td>\n",
       "      <td>24.000000</td>\n",
       "      <td>711.000000</td>\n",
       "      <td>22.000000</td>\n",
       "      <td>396.900000</td>\n",
       "      <td>37.970000</td>\n",
       "      <td>50.000000</td>\n",
       "    </tr>\n",
       "  </tbody>\n",
       "</table>\n",
       "</div>"
      ],
      "text/plain": [
       "             CRIM          ZN       INDUS        CHAS         NOX          RM   \n",
       "count  506.000000  506.000000  506.000000  506.000000  506.000000  506.000000  \\\n",
       "mean     3.613524   11.363636   11.136779    0.069170    0.554695    6.284634   \n",
       "std      8.601545   23.322453    6.860353    0.253994    0.115878    0.702617   \n",
       "min      0.006320    0.000000    0.460000    0.000000    0.385000    3.561000   \n",
       "25%      0.082045    0.000000    5.190000    0.000000    0.449000    5.885500   \n",
       "50%      0.256510    0.000000    9.690000    0.000000    0.538000    6.208500   \n",
       "75%      3.677083   12.500000   18.100000    0.000000    0.624000    6.623500   \n",
       "max     88.976200  100.000000   27.740000    1.000000    0.871000    8.780000   \n",
       "\n",
       "              AGE         DIS         RAD         TAX     PTRATIO           B   \n",
       "count  506.000000  506.000000  506.000000  506.000000  506.000000  506.000000  \\\n",
       "mean    68.574901    3.795043    9.549407  408.237154   18.455534  356.674032   \n",
       "std     28.148861    2.105710    8.707259  168.537116    2.164946   91.294864   \n",
       "min      2.900000    1.129600    1.000000  187.000000   12.600000    0.320000   \n",
       "25%     45.025000    2.100175    4.000000  279.000000   17.400000  375.377500   \n",
       "50%     77.500000    3.207450    5.000000  330.000000   19.050000  391.440000   \n",
       "75%     94.075000    5.188425   24.000000  666.000000   20.200000  396.225000   \n",
       "max    100.000000   12.126500   24.000000  711.000000   22.000000  396.900000   \n",
       "\n",
       "            LSTAT        MEDV  \n",
       "count  506.000000  506.000000  \n",
       "mean    12.653063   22.532806  \n",
       "std      7.141062    9.197104  \n",
       "min      1.730000    5.000000  \n",
       "25%      6.950000   17.025000  \n",
       "50%     11.360000   21.200000  \n",
       "75%     16.955000   25.000000  \n",
       "max     37.970000   50.000000  "
      ]
     },
     "execution_count": 7,
     "metadata": {},
     "output_type": "execute_result"
    }
   ],
   "source": [
    "df.describe()"
   ]
  },
  {
   "cell_type": "markdown",
   "id": "44bc6735",
   "metadata": {},
   "source": [
    "#### Checking correlation with target variable MEDV"
   ]
  },
  {
   "cell_type": "code",
   "execution_count": 8,
   "id": "64ef4b15",
   "metadata": {},
   "outputs": [
    {
     "data": {
      "text/plain": [
       "LSTAT     -0.737663\n",
       "PTRATIO   -0.507787\n",
       "INDUS     -0.483725\n",
       "TAX       -0.468536\n",
       "NOX       -0.427321\n",
       "CRIM      -0.388305\n",
       "RAD       -0.381626\n",
       "AGE       -0.376955\n",
       "CHAS       0.175260\n",
       "DIS        0.249929\n",
       "B          0.333461\n",
       "ZN         0.360445\n",
       "RM         0.695360\n",
       "MEDV       1.000000\n",
       "Name: MEDV, dtype: float64"
      ]
     },
     "execution_count": 8,
     "metadata": {},
     "output_type": "execute_result"
    }
   ],
   "source": [
    "df.corr()['MEDV'].sort_values()"
   ]
  },
  {
   "cell_type": "code",
   "execution_count": 9,
   "id": "7168e688",
   "metadata": {},
   "outputs": [
    {
     "data": {
      "text/plain": [
       "((506, 3), (506,))"
      ]
     },
     "execution_count": 9,
     "metadata": {},
     "output_type": "execute_result"
    }
   ],
   "source": [
    "X = df.loc[:,['LSTAT','PTRATIO','RM']]\n",
    "Y = df.loc[:,\"MEDV\"]\n",
    "X.shape,Y.shape"
   ]
  },
  {
   "cell_type": "markdown",
   "id": "08648c29",
   "metadata": {},
   "source": [
    "### Preparing training and testing data set"
   ]
  },
  {
   "cell_type": "code",
   "execution_count": 10,
   "id": "cecea370",
   "metadata": {},
   "outputs": [],
   "source": [
    "from sklearn.model_selection import train_test_split\n",
    "x_train,x_test,y_train,y_test = train_test_split(X,Y,test_size=0.25,random_state=10)"
   ]
  },
  {
   "cell_type": "markdown",
   "id": "7eabb9f2",
   "metadata": {},
   "source": [
    "### Normalizing training and testing dataset"
   ]
  },
  {
   "cell_type": "code",
   "execution_count": 11,
   "id": "926fe0ce",
   "metadata": {},
   "outputs": [],
   "source": [
    "from sklearn.preprocessing import StandardScaler"
   ]
  },
  {
   "cell_type": "code",
   "execution_count": 12,
   "id": "1e49c4a2",
   "metadata": {},
   "outputs": [],
   "source": [
    "scaler = StandardScaler()"
   ]
  },
  {
   "cell_type": "code",
   "execution_count": 13,
   "id": "b99b26de",
   "metadata": {},
   "outputs": [
    {
     "data": {
      "text/html": [
       "<style>#sk-container-id-1 {color: black;background-color: white;}#sk-container-id-1 pre{padding: 0;}#sk-container-id-1 div.sk-toggleable {background-color: white;}#sk-container-id-1 label.sk-toggleable__label {cursor: pointer;display: block;width: 100%;margin-bottom: 0;padding: 0.3em;box-sizing: border-box;text-align: center;}#sk-container-id-1 label.sk-toggleable__label-arrow:before {content: \"▸\";float: left;margin-right: 0.25em;color: #696969;}#sk-container-id-1 label.sk-toggleable__label-arrow:hover:before {color: black;}#sk-container-id-1 div.sk-estimator:hover label.sk-toggleable__label-arrow:before {color: black;}#sk-container-id-1 div.sk-toggleable__content {max-height: 0;max-width: 0;overflow: hidden;text-align: left;background-color: #f0f8ff;}#sk-container-id-1 div.sk-toggleable__content pre {margin: 0.2em;color: black;border-radius: 0.25em;background-color: #f0f8ff;}#sk-container-id-1 input.sk-toggleable__control:checked~div.sk-toggleable__content {max-height: 200px;max-width: 100%;overflow: auto;}#sk-container-id-1 input.sk-toggleable__control:checked~label.sk-toggleable__label-arrow:before {content: \"▾\";}#sk-container-id-1 div.sk-estimator input.sk-toggleable__control:checked~label.sk-toggleable__label {background-color: #d4ebff;}#sk-container-id-1 div.sk-label input.sk-toggleable__control:checked~label.sk-toggleable__label {background-color: #d4ebff;}#sk-container-id-1 input.sk-hidden--visually {border: 0;clip: rect(1px 1px 1px 1px);clip: rect(1px, 1px, 1px, 1px);height: 1px;margin: -1px;overflow: hidden;padding: 0;position: absolute;width: 1px;}#sk-container-id-1 div.sk-estimator {font-family: monospace;background-color: #f0f8ff;border: 1px dotted black;border-radius: 0.25em;box-sizing: border-box;margin-bottom: 0.5em;}#sk-container-id-1 div.sk-estimator:hover {background-color: #d4ebff;}#sk-container-id-1 div.sk-parallel-item::after {content: \"\";width: 100%;border-bottom: 1px solid gray;flex-grow: 1;}#sk-container-id-1 div.sk-label:hover label.sk-toggleable__label {background-color: #d4ebff;}#sk-container-id-1 div.sk-serial::before {content: \"\";position: absolute;border-left: 1px solid gray;box-sizing: border-box;top: 0;bottom: 0;left: 50%;z-index: 0;}#sk-container-id-1 div.sk-serial {display: flex;flex-direction: column;align-items: center;background-color: white;padding-right: 0.2em;padding-left: 0.2em;position: relative;}#sk-container-id-1 div.sk-item {position: relative;z-index: 1;}#sk-container-id-1 div.sk-parallel {display: flex;align-items: stretch;justify-content: center;background-color: white;position: relative;}#sk-container-id-1 div.sk-item::before, #sk-container-id-1 div.sk-parallel-item::before {content: \"\";position: absolute;border-left: 1px solid gray;box-sizing: border-box;top: 0;bottom: 0;left: 50%;z-index: -1;}#sk-container-id-1 div.sk-parallel-item {display: flex;flex-direction: column;z-index: 1;position: relative;background-color: white;}#sk-container-id-1 div.sk-parallel-item:first-child::after {align-self: flex-end;width: 50%;}#sk-container-id-1 div.sk-parallel-item:last-child::after {align-self: flex-start;width: 50%;}#sk-container-id-1 div.sk-parallel-item:only-child::after {width: 0;}#sk-container-id-1 div.sk-dashed-wrapped {border: 1px dashed gray;margin: 0 0.4em 0.5em 0.4em;box-sizing: border-box;padding-bottom: 0.4em;background-color: white;}#sk-container-id-1 div.sk-label label {font-family: monospace;font-weight: bold;display: inline-block;line-height: 1.2em;}#sk-container-id-1 div.sk-label-container {text-align: center;}#sk-container-id-1 div.sk-container {/* jupyter's `normalize.less` sets `[hidden] { display: none; }` but bootstrap.min.css set `[hidden] { display: none !important; }` so we also need the `!important` here to be able to override the default hidden behavior on the sphinx rendered scikit-learn.org. See: https://github.com/scikit-learn/scikit-learn/issues/21755 */display: inline-block !important;position: relative;}#sk-container-id-1 div.sk-text-repr-fallback {display: none;}</style><div id=\"sk-container-id-1\" class=\"sk-top-container\"><div class=\"sk-text-repr-fallback\"><pre>StandardScaler()</pre><b>In a Jupyter environment, please rerun this cell to show the HTML representation or trust the notebook. <br />On GitHub, the HTML representation is unable to render, please try loading this page with nbviewer.org.</b></div><div class=\"sk-container\" hidden><div class=\"sk-item\"><div class=\"sk-estimator sk-toggleable\"><input class=\"sk-toggleable__control sk-hidden--visually\" id=\"sk-estimator-id-1\" type=\"checkbox\" checked><label for=\"sk-estimator-id-1\" class=\"sk-toggleable__label sk-toggleable__label-arrow\">StandardScaler</label><div class=\"sk-toggleable__content\"><pre>StandardScaler()</pre></div></div></div></div></div>"
      ],
      "text/plain": [
       "StandardScaler()"
      ]
     },
     "execution_count": 13,
     "metadata": {},
     "output_type": "execute_result"
    }
   ],
   "source": [
    "scaler.fit(x_train)"
   ]
  },
  {
   "cell_type": "code",
   "execution_count": 14,
   "id": "eece8526",
   "metadata": {},
   "outputs": [],
   "source": [
    "x_train = scaler.transform(x_train)\n",
    "x_test = scaler.transform(x_test)"
   ]
  },
  {
   "cell_type": "markdown",
   "id": "a1ed18cc",
   "metadata": {},
   "source": [
    "### Preparing model"
   ]
  },
  {
   "cell_type": "code",
   "execution_count": 15,
   "id": "1243c6f8",
   "metadata": {},
   "outputs": [
    {
     "name": "stderr",
     "output_type": "stream",
     "text": [
      "2023-05-17 10:58:37.134202: I tensorflow/tsl/cuda/cudart_stub.cc:28] Could not find cuda drivers on your machine, GPU will not be used.\n",
      "2023-05-17 10:58:37.195548: I tensorflow/tsl/cuda/cudart_stub.cc:28] Could not find cuda drivers on your machine, GPU will not be used.\n",
      "2023-05-17 10:58:37.196135: I tensorflow/core/platform/cpu_feature_guard.cc:182] This TensorFlow binary is optimized to use available CPU instructions in performance-critical operations.\n",
      "To enable the following instructions: AVX2 FMA, in other operations, rebuild TensorFlow with the appropriate compiler flags.\n",
      "2023-05-17 10:58:38.135038: W tensorflow/compiler/tf2tensorrt/utils/py_utils.cc:38] TF-TRT Warning: Could not find TensorRT\n"
     ]
    }
   ],
   "source": [
    "from keras.models import Sequential\n",
    "from keras.layers import Dense"
   ]
  },
  {
   "cell_type": "code",
   "execution_count": 16,
   "id": "e7dad931",
   "metadata": {},
   "outputs": [],
   "source": [
    "model = Sequential()"
   ]
  },
  {
   "cell_type": "code",
   "execution_count": 17,
   "id": "0baf27a9",
   "metadata": {},
   "outputs": [
    {
     "name": "stdout",
     "output_type": "stream",
     "text": [
      "Model: \"sequential\"\n",
      "_________________________________________________________________\n",
      " Layer (type)                Output Shape              Param #   \n",
      "=================================================================\n",
      " input (Dense)               (None, 128)               512       \n",
      "                                                                 \n",
      " layer_1 (Dense)             (None, 64)                8256      \n",
      "                                                                 \n",
      " output (Dense)              (None, 1)                 65        \n",
      "                                                                 \n",
      "=================================================================\n",
      "Total params: 8,833\n",
      "Trainable params: 8,833\n",
      "Non-trainable params: 0\n",
      "_________________________________________________________________\n"
     ]
    }
   ],
   "source": [
    "model.add(Dense(128,input_shape=(3,),activation='relu',name='input'))\n",
    "model.add(Dense(64,activation='relu',name='layer_1'))\n",
    "model.add(Dense(1,activation='linear',name='output'))\n",
    "model.compile(optimizer='adam', loss='mse', metrics=['mae'])\n",
    "model.summary()"
   ]
  },
  {
   "cell_type": "code",
   "execution_count": 18,
   "id": "4b51358b",
   "metadata": {},
   "outputs": [
    {
     "name": "stdout",
     "output_type": "stream",
     "text": [
      "Epoch 1/100\n",
      "12/12 [==============================] - 2s 24ms/step - loss: 544.7061 - mae: 21.6576 - val_loss: 714.5395 - val_mae: 24.0075\n",
      "Epoch 2/100\n",
      "12/12 [==============================] - 0s 4ms/step - loss: 512.9559 - mae: 20.9372 - val_loss: 677.9935 - val_mae: 23.1937\n",
      "Epoch 3/100\n",
      "12/12 [==============================] - 0s 4ms/step - loss: 476.2419 - mae: 20.0651 - val_loss: 629.5842 - val_mae: 22.0728\n",
      "Epoch 4/100\n",
      "12/12 [==============================] - 0s 4ms/step - loss: 425.7439 - mae: 18.8035 - val_loss: 563.5456 - val_mae: 20.4718\n",
      "Epoch 5/100\n",
      "12/12 [==============================] - 0s 4ms/step - loss: 357.0851 - mae: 17.0205 - val_loss: 479.2934 - val_mae: 18.6333\n",
      "Epoch 6/100\n",
      "12/12 [==============================] - 0s 4ms/step - loss: 272.8982 - mae: 14.7479 - val_loss: 381.5602 - val_mae: 16.2067\n",
      "Epoch 7/100\n",
      "12/12 [==============================] - 0s 4ms/step - loss: 179.2888 - mae: 11.9640 - val_loss: 283.8715 - val_mae: 13.2810\n",
      "Epoch 8/100\n",
      "12/12 [==============================] - 0s 4ms/step - loss: 104.5235 - mae: 8.9978 - val_loss: 200.7466 - val_mae: 10.6879\n",
      "Epoch 9/100\n",
      "12/12 [==============================] - 0s 4ms/step - loss: 57.1397 - mae: 6.3254 - val_loss: 148.3875 - val_mae: 8.8559\n",
      "Epoch 10/100\n",
      "12/12 [==============================] - 0s 4ms/step - loss: 41.7718 - mae: 5.1125 - val_loss: 123.2236 - val_mae: 7.6618\n",
      "Epoch 11/100\n",
      "12/12 [==============================] - 0s 4ms/step - loss: 35.9985 - mae: 4.5989 - val_loss: 110.8012 - val_mae: 7.2083\n",
      "Epoch 12/100\n",
      "12/12 [==============================] - 0s 4ms/step - loss: 31.2922 - mae: 4.1650 - val_loss: 103.8346 - val_mae: 7.0398\n",
      "Epoch 13/100\n",
      "12/12 [==============================] - 0s 5ms/step - loss: 27.9764 - mae: 3.9057 - val_loss: 98.6569 - val_mae: 6.8926\n",
      "Epoch 14/100\n",
      "12/12 [==============================] - 0s 4ms/step - loss: 25.9101 - mae: 3.7660 - val_loss: 95.0980 - val_mae: 6.7662\n",
      "Epoch 15/100\n",
      "12/12 [==============================] - 0s 4ms/step - loss: 24.3466 - mae: 3.6351 - val_loss: 92.0380 - val_mae: 6.6725\n",
      "Epoch 16/100\n",
      "12/12 [==============================] - 0s 4ms/step - loss: 23.4129 - mae: 3.5525 - val_loss: 88.0271 - val_mae: 6.5775\n",
      "Epoch 17/100\n",
      "12/12 [==============================] - 0s 5ms/step - loss: 22.4878 - mae: 3.4858 - val_loss: 88.2216 - val_mae: 6.5707\n",
      "Epoch 18/100\n",
      "12/12 [==============================] - 0s 4ms/step - loss: 21.7393 - mae: 3.4402 - val_loss: 86.4171 - val_mae: 6.5218\n",
      "Epoch 19/100\n",
      "12/12 [==============================] - 0s 4ms/step - loss: 21.3203 - mae: 3.4007 - val_loss: 84.4865 - val_mae: 6.5053\n",
      "Epoch 20/100\n",
      "12/12 [==============================] - 0s 4ms/step - loss: 20.8503 - mae: 3.3670 - val_loss: 86.2149 - val_mae: 6.4675\n",
      "Epoch 21/100\n",
      "12/12 [==============================] - 0s 5ms/step - loss: 20.2140 - mae: 3.3027 - val_loss: 84.9374 - val_mae: 6.4271\n",
      "Epoch 22/100\n",
      "12/12 [==============================] - 0s 5ms/step - loss: 19.9486 - mae: 3.2877 - val_loss: 82.5989 - val_mae: 6.4013\n",
      "Epoch 23/100\n",
      "12/12 [==============================] - 0s 4ms/step - loss: 19.5645 - mae: 3.2779 - val_loss: 83.7344 - val_mae: 6.3923\n",
      "Epoch 24/100\n",
      "12/12 [==============================] - 0s 5ms/step - loss: 19.2030 - mae: 3.2404 - val_loss: 85.1843 - val_mae: 6.3746\n",
      "Epoch 25/100\n",
      "12/12 [==============================] - 0s 4ms/step - loss: 18.8408 - mae: 3.2071 - val_loss: 84.2068 - val_mae: 6.3343\n",
      "Epoch 26/100\n",
      "12/12 [==============================] - 0s 5ms/step - loss: 18.5037 - mae: 3.1693 - val_loss: 84.0729 - val_mae: 6.2861\n",
      "Epoch 27/100\n",
      "12/12 [==============================] - 0s 5ms/step - loss: 18.2157 - mae: 3.1404 - val_loss: 82.6592 - val_mae: 6.2027\n",
      "Epoch 28/100\n",
      "12/12 [==============================] - 0s 5ms/step - loss: 17.9926 - mae: 3.1205 - val_loss: 81.7195 - val_mae: 6.1191\n",
      "Epoch 29/100\n",
      "12/12 [==============================] - 0s 6ms/step - loss: 17.6600 - mae: 3.0834 - val_loss: 83.0971 - val_mae: 6.1171\n",
      "Epoch 30/100\n",
      "12/12 [==============================] - 0s 6ms/step - loss: 17.4087 - mae: 3.0634 - val_loss: 82.2133 - val_mae: 6.0684\n",
      "Epoch 31/100\n",
      "12/12 [==============================] - 0s 4ms/step - loss: 17.2159 - mae: 3.0296 - val_loss: 81.9122 - val_mae: 6.0548\n",
      "Epoch 32/100\n",
      "12/12 [==============================] - 0s 4ms/step - loss: 17.0172 - mae: 3.0054 - val_loss: 82.0847 - val_mae: 6.0316\n",
      "Epoch 33/100\n",
      "12/12 [==============================] - 0s 4ms/step - loss: 16.7454 - mae: 2.9889 - val_loss: 82.0150 - val_mae: 5.9826\n",
      "Epoch 34/100\n",
      "12/12 [==============================] - 0s 6ms/step - loss: 16.5277 - mae: 2.9851 - val_loss: 81.3414 - val_mae: 5.9125\n",
      "Epoch 35/100\n",
      "12/12 [==============================] - 0s 5ms/step - loss: 16.3601 - mae: 2.9681 - val_loss: 80.9061 - val_mae: 5.8730\n",
      "Epoch 36/100\n",
      "12/12 [==============================] - 0s 5ms/step - loss: 16.2450 - mae: 2.9604 - val_loss: 80.7372 - val_mae: 5.8365\n",
      "Epoch 37/100\n",
      "12/12 [==============================] - 0s 5ms/step - loss: 16.0240 - mae: 2.9390 - val_loss: 81.6258 - val_mae: 5.8639\n",
      "Epoch 38/100\n",
      "12/12 [==============================] - 0s 5ms/step - loss: 15.8740 - mae: 2.9163 - val_loss: 82.7720 - val_mae: 5.8945\n",
      "Epoch 39/100\n",
      "12/12 [==============================] - 0s 4ms/step - loss: 15.8428 - mae: 2.8962 - val_loss: 81.0496 - val_mae: 5.7932\n",
      "Epoch 40/100\n",
      "12/12 [==============================] - 0s 4ms/step - loss: 15.5719 - mae: 2.8740 - val_loss: 81.3616 - val_mae: 5.7935\n",
      "Epoch 41/100\n",
      "12/12 [==============================] - 0s 4ms/step - loss: 15.4201 - mae: 2.8625 - val_loss: 81.6365 - val_mae: 5.7999\n",
      "Epoch 42/100\n",
      "12/12 [==============================] - 0s 4ms/step - loss: 15.2904 - mae: 2.8526 - val_loss: 81.5480 - val_mae: 5.7849\n",
      "Epoch 43/100\n",
      "12/12 [==============================] - 0s 4ms/step - loss: 15.1845 - mae: 2.8418 - val_loss: 81.3298 - val_mae: 5.7640\n",
      "Epoch 44/100\n",
      "12/12 [==============================] - 0s 5ms/step - loss: 15.0903 - mae: 2.8217 - val_loss: 80.6214 - val_mae: 5.7209\n",
      "Epoch 45/100\n",
      "12/12 [==============================] - 0s 4ms/step - loss: 14.9544 - mae: 2.8098 - val_loss: 80.9275 - val_mae: 5.7066\n",
      "Epoch 46/100\n",
      "12/12 [==============================] - 0s 4ms/step - loss: 14.8358 - mae: 2.8055 - val_loss: 80.2669 - val_mae: 5.6804\n",
      "Epoch 47/100\n",
      "12/12 [==============================] - 0s 4ms/step - loss: 14.7608 - mae: 2.8075 - val_loss: 80.2343 - val_mae: 5.6522\n",
      "Epoch 48/100\n",
      "12/12 [==============================] - 0s 5ms/step - loss: 14.6232 - mae: 2.7838 - val_loss: 81.7090 - val_mae: 5.6948\n",
      "Epoch 49/100\n",
      "12/12 [==============================] - 0s 4ms/step - loss: 14.6167 - mae: 2.7625 - val_loss: 81.6111 - val_mae: 5.6778\n",
      "Epoch 50/100\n",
      "12/12 [==============================] - 0s 4ms/step - loss: 14.4091 - mae: 2.7512 - val_loss: 81.3387 - val_mae: 5.6530\n",
      "Epoch 51/100\n",
      "12/12 [==============================] - 0s 4ms/step - loss: 14.3645 - mae: 2.7466 - val_loss: 80.9117 - val_mae: 5.6331\n",
      "Epoch 52/100\n",
      "12/12 [==============================] - 0s 4ms/step - loss: 14.2722 - mae: 2.7402 - val_loss: 81.4616 - val_mae: 5.6639\n",
      "Epoch 53/100\n",
      "12/12 [==============================] - 0s 4ms/step - loss: 14.1915 - mae: 2.7453 - val_loss: 80.7782 - val_mae: 5.6326\n",
      "Epoch 54/100\n",
      "12/12 [==============================] - 0s 4ms/step - loss: 14.1460 - mae: 2.7512 - val_loss: 79.6686 - val_mae: 5.6019\n",
      "Epoch 55/100\n",
      "12/12 [==============================] - 0s 4ms/step - loss: 14.0206 - mae: 2.7173 - val_loss: 79.9806 - val_mae: 5.6017\n",
      "Epoch 56/100\n",
      "12/12 [==============================] - 0s 4ms/step - loss: 13.9359 - mae: 2.7022 - val_loss: 80.7807 - val_mae: 5.6115\n",
      "Epoch 57/100\n",
      "12/12 [==============================] - 0s 4ms/step - loss: 13.8532 - mae: 2.6972 - val_loss: 81.2755 - val_mae: 5.6191\n",
      "Epoch 58/100\n",
      "12/12 [==============================] - 0s 4ms/step - loss: 13.8364 - mae: 2.6847 - val_loss: 80.8197 - val_mae: 5.5768\n",
      "Epoch 59/100\n",
      "12/12 [==============================] - 0s 5ms/step - loss: 13.7924 - mae: 2.6862 - val_loss: 80.4784 - val_mae: 5.5743\n",
      "Epoch 60/100\n",
      "12/12 [==============================] - 0s 4ms/step - loss: 13.7637 - mae: 2.6833 - val_loss: 80.1045 - val_mae: 5.5468\n",
      "Epoch 61/100\n",
      "12/12 [==============================] - 0s 4ms/step - loss: 13.6994 - mae: 2.6801 - val_loss: 81.7602 - val_mae: 5.5742\n"
     ]
    },
    {
     "name": "stdout",
     "output_type": "stream",
     "text": [
      "Epoch 62/100\n",
      "12/12 [==============================] - 0s 4ms/step - loss: 13.6405 - mae: 2.6562 - val_loss: 82.2144 - val_mae: 5.5513\n",
      "Epoch 63/100\n",
      "12/12 [==============================] - 0s 4ms/step - loss: 13.5041 - mae: 2.6407 - val_loss: 81.2397 - val_mae: 5.5320\n",
      "Epoch 64/100\n",
      "12/12 [==============================] - 0s 4ms/step - loss: 13.5113 - mae: 2.6521 - val_loss: 80.9513 - val_mae: 5.5471\n",
      "Epoch 65/100\n",
      "12/12 [==============================] - 0s 4ms/step - loss: 13.4406 - mae: 2.6531 - val_loss: 80.4663 - val_mae: 5.5328\n",
      "Epoch 66/100\n",
      "12/12 [==============================] - 0s 4ms/step - loss: 13.3095 - mae: 2.6342 - val_loss: 79.4430 - val_mae: 5.4835\n",
      "Epoch 67/100\n",
      "12/12 [==============================] - 0s 4ms/step - loss: 13.2635 - mae: 2.6216 - val_loss: 80.2542 - val_mae: 5.5008\n",
      "Epoch 68/100\n",
      "12/12 [==============================] - 0s 4ms/step - loss: 13.3163 - mae: 2.6216 - val_loss: 82.0754 - val_mae: 5.5405\n",
      "Epoch 69/100\n",
      "12/12 [==============================] - 0s 4ms/step - loss: 13.2020 - mae: 2.6076 - val_loss: 79.0929 - val_mae: 5.4324\n",
      "Epoch 70/100\n",
      "12/12 [==============================] - 0s 4ms/step - loss: 13.1352 - mae: 2.6039 - val_loss: 80.7452 - val_mae: 5.4376\n",
      "Epoch 71/100\n",
      "12/12 [==============================] - 0s 4ms/step - loss: 13.0729 - mae: 2.5916 - val_loss: 81.9830 - val_mae: 5.4907\n",
      "Epoch 72/100\n",
      "12/12 [==============================] - 0s 4ms/step - loss: 12.9979 - mae: 2.5953 - val_loss: 78.9667 - val_mae: 5.4796\n",
      "Epoch 73/100\n",
      "12/12 [==============================] - 0s 4ms/step - loss: 12.9659 - mae: 2.6206 - val_loss: 80.6881 - val_mae: 5.5198\n",
      "Epoch 74/100\n",
      "12/12 [==============================] - 0s 4ms/step - loss: 12.8262 - mae: 2.5942 - val_loss: 82.2567 - val_mae: 5.5323\n",
      "Epoch 75/100\n",
      "12/12 [==============================] - 0s 4ms/step - loss: 12.8202 - mae: 2.5811 - val_loss: 81.8079 - val_mae: 5.4885\n",
      "Epoch 76/100\n",
      "12/12 [==============================] - 0s 4ms/step - loss: 12.7320 - mae: 2.5800 - val_loss: 80.8535 - val_mae: 5.4470\n",
      "Epoch 77/100\n",
      "12/12 [==============================] - 0s 4ms/step - loss: 12.6497 - mae: 2.5646 - val_loss: 81.0964 - val_mae: 5.4481\n",
      "Epoch 78/100\n",
      "12/12 [==============================] - 0s 4ms/step - loss: 12.5555 - mae: 2.5582 - val_loss: 78.2607 - val_mae: 5.3751\n",
      "Epoch 79/100\n",
      "12/12 [==============================] - 0s 4ms/step - loss: 12.5571 - mae: 2.5471 - val_loss: 79.2164 - val_mae: 5.3611\n",
      "Epoch 80/100\n",
      "12/12 [==============================] - 0s 4ms/step - loss: 12.6806 - mae: 2.5783 - val_loss: 80.0692 - val_mae: 5.3745\n",
      "Epoch 81/100\n",
      "12/12 [==============================] - 0s 4ms/step - loss: 12.4828 - mae: 2.5520 - val_loss: 79.9718 - val_mae: 5.3752\n",
      "Epoch 82/100\n",
      "12/12 [==============================] - 0s 4ms/step - loss: 12.4810 - mae: 2.5439 - val_loss: 82.0463 - val_mae: 5.4131\n",
      "Epoch 83/100\n",
      "12/12 [==============================] - 0s 4ms/step - loss: 12.2876 - mae: 2.5305 - val_loss: 79.9414 - val_mae: 5.3514\n",
      "Epoch 84/100\n",
      "12/12 [==============================] - 0s 4ms/step - loss: 12.3478 - mae: 2.5360 - val_loss: 79.5760 - val_mae: 5.3373\n",
      "Epoch 85/100\n",
      "12/12 [==============================] - 0s 4ms/step - loss: 12.2020 - mae: 2.5156 - val_loss: 81.0131 - val_mae: 5.3523\n",
      "Epoch 86/100\n",
      "12/12 [==============================] - 0s 4ms/step - loss: 12.3649 - mae: 2.5389 - val_loss: 84.0796 - val_mae: 5.3927\n",
      "Epoch 87/100\n",
      "12/12 [==============================] - 0s 4ms/step - loss: 12.3706 - mae: 2.5615 - val_loss: 79.1289 - val_mae: 5.3370\n",
      "Epoch 88/100\n",
      "12/12 [==============================] - 0s 4ms/step - loss: 12.1226 - mae: 2.5329 - val_loss: 83.1189 - val_mae: 5.4422\n",
      "Epoch 89/100\n",
      "12/12 [==============================] - 0s 4ms/step - loss: 12.0351 - mae: 2.5132 - val_loss: 81.2326 - val_mae: 5.3744\n",
      "Epoch 90/100\n",
      "12/12 [==============================] - 0s 4ms/step - loss: 11.9457 - mae: 2.5063 - val_loss: 81.3524 - val_mae: 5.3232\n",
      "Epoch 91/100\n",
      "12/12 [==============================] - 0s 4ms/step - loss: 11.8582 - mae: 2.4952 - val_loss: 84.0626 - val_mae: 5.3697\n",
      "Epoch 92/100\n",
      "12/12 [==============================] - 0s 4ms/step - loss: 11.9627 - mae: 2.4998 - val_loss: 81.5683 - val_mae: 5.2767\n",
      "Epoch 93/100\n",
      "12/12 [==============================] - 0s 4ms/step - loss: 11.8214 - mae: 2.4866 - val_loss: 82.1105 - val_mae: 5.2989\n",
      "Epoch 94/100\n",
      "12/12 [==============================] - 0s 4ms/step - loss: 11.7426 - mae: 2.4825 - val_loss: 82.5228 - val_mae: 5.2914\n",
      "Epoch 95/100\n",
      "12/12 [==============================] - 0s 4ms/step - loss: 11.6539 - mae: 2.4590 - val_loss: 81.4000 - val_mae: 5.2612\n",
      "Epoch 96/100\n",
      "12/12 [==============================] - 0s 4ms/step - loss: 11.6949 - mae: 2.4675 - val_loss: 80.9894 - val_mae: 5.2945\n",
      "Epoch 97/100\n",
      "12/12 [==============================] - 0s 4ms/step - loss: 11.5374 - mae: 2.4527 - val_loss: 83.0535 - val_mae: 5.3117\n",
      "Epoch 98/100\n",
      "12/12 [==============================] - 0s 4ms/step - loss: 11.5844 - mae: 2.4434 - val_loss: 82.2789 - val_mae: 5.2525\n",
      "Epoch 99/100\n",
      "12/12 [==============================] - 0s 4ms/step - loss: 11.5098 - mae: 2.4351 - val_loss: 81.9421 - val_mae: 5.2604\n",
      "Epoch 100/100\n",
      "12/12 [==============================] - 0s 4ms/step - loss: 11.4476 - mae: 2.4350 - val_loss: 82.3870 - val_mae: 5.2926\n"
     ]
    },
    {
     "data": {
      "text/plain": [
       "<keras.callbacks.History at 0x7f7b7419e560>"
      ]
     },
     "execution_count": 18,
     "metadata": {},
     "output_type": "execute_result"
    }
   ],
   "source": [
    "model.fit(x_train,y_train,epochs=100,validation_split=0.05)"
   ]
  },
  {
   "cell_type": "code",
   "execution_count": 19,
   "id": "e2afb08a",
   "metadata": {},
   "outputs": [
    {
     "name": "stdout",
     "output_type": "stream",
     "text": [
      "4/4 [==============================] - 0s 1ms/step - loss: 22.9306 - mae: 3.1469\n"
     ]
    }
   ],
   "source": [
    "output = model.evaluate(x_test,y_test)"
   ]
  },
  {
   "cell_type": "code",
   "execution_count": 20,
   "id": "b7bf34bd",
   "metadata": {},
   "outputs": [
    {
     "name": "stdout",
     "output_type": "stream",
     "text": [
      "Mean Squared Error: 22.930566787719727\n",
      "Mean Absolute Error: 3.1468777656555176\n"
     ]
    }
   ],
   "source": [
    "print(f\"Mean Squared Error: {output[0]}\"\n",
    "      ,f\"Mean Absolute Error: {output[1]}\",sep=\"\\n\")"
   ]
  },
  {
   "cell_type": "code",
   "execution_count": 21,
   "id": "85333e40",
   "metadata": {},
   "outputs": [
    {
     "name": "stdout",
     "output_type": "stream",
     "text": [
      "4/4 [==============================] - 0s 964us/step\n"
     ]
    }
   ],
   "source": [
    "y_pred = model.predict(x=x_test)"
   ]
  },
  {
   "cell_type": "code",
   "execution_count": 22,
   "id": "4be4c127",
   "metadata": {},
   "outputs": [
    {
     "name": "stdout",
     "output_type": "stream",
     "text": [
      "(array([24.701178], dtype=float32), 28.4) (array([30.596743], dtype=float32), 31.1) (array([25.713493], dtype=float32), 23.5) (array([27.385885], dtype=float32), 26.6) (array([18.762024], dtype=float32), 19.6) (array([16.581465], dtype=float32), 14.3) (array([41.999626], dtype=float32), 50.0) (array([15.206423], dtype=float32), 14.3) (array([19.77925], dtype=float32), 20.7) (array([43.137566], dtype=float32), 37.6) (array([17.935022], dtype=float32), 20.4) (array([26.567364], dtype=float32), 27.5) (array([22.318583], dtype=float32), 36.2) (array([31.95791], dtype=float32), 32.0) (array([30.701466], dtype=float32), 33.1) (array([51.58252], dtype=float32), 48.8) (array([25.999884], dtype=float32), 24.6) (array([19.23742], dtype=float32), 26.4) (array([20.845531], dtype=float32), 23.2) (array([19.511427], dtype=float32), 17.0) (array([33.335564], dtype=float32), 41.3) (array([15.423756], dtype=float32), 14.9) (array([22.260649], dtype=float32), 18.5) (array([25.122105], dtype=float32), 25.0) (array([36.95914], dtype=float32), 36.4) (array([21.20267], dtype=float32), 19.5) (array([18.249336], dtype=float32), 27.1) (array([16.466764], dtype=float32), 14.9) (array([42.708324], dtype=float32), 46.0) (array([11.518774], dtype=float32), 17.9) (array([34.580536], dtype=float32), 30.3) (array([31.971142], dtype=float32), 31.6) (array([26.24904], dtype=float32), 23.1) (array([23.906462], dtype=float32), 24.7) (array([14.884839], dtype=float32), 16.7) (array([19.84229], dtype=float32), 18.3) (array([8.4260025], dtype=float32), 8.4) (array([31.99872], dtype=float32), 37.3) (array([24.661568], dtype=float32), 22.1) (array([24.323853], dtype=float32), 22.0) (array([38.991955], dtype=float32), 46.7) (array([26.079348], dtype=float32), 30.1) (array([13.535061], dtype=float32), 12.1) (array([29.045952], dtype=float32), 29.1) (array([17.129534], dtype=float32), 16.6) (array([27.018671], dtype=float32), 23.9) (array([18.05255], dtype=float32), 19.9) (array([18.879147], dtype=float32), 21.4) (array([44.258118], dtype=float32), 45.4) (array([16.48087], dtype=float32), 15.6) (array([19.794348], dtype=float32), 22.7) (array([14.206978], dtype=float32), 12.5) (array([20.19507], dtype=float32), 24.3) (array([39.327713], dtype=float32), 43.8) (array([24.071262], dtype=float32), 22.0) (array([34.55903], dtype=float32), 33.8) (array([19.19153], dtype=float32), 19.3) (array([19.266214], dtype=float32), 22.6) (array([22.239157], dtype=float32), 16.1) (array([21.585094], dtype=float32), 15.0) (array([19.111414], dtype=float32), 19.6) (array([20.953745], dtype=float32), 21.2) (array([51.495647], dtype=float32), 50.0) (array([55.86274], dtype=float32), 50.0) (array([27.371014], dtype=float32), 29.4) (array([15.124381], dtype=float32), 17.8) (array([24.646437], dtype=float32), 22.8) (array([12.67318], dtype=float32), 8.8) (array([27.169695], dtype=float32), 32.5) (array([39.51104], dtype=float32), 42.8) (array([16.34441], dtype=float32), 12.6) (array([28.041462], dtype=float32), 28.6) (array([17.494497], dtype=float32), 19.1) (array([21.672235], dtype=float32), 50.0) (array([21.528214], dtype=float32), 27.5) (array([11.466829], dtype=float32), 23.7) (array([47.521828], dtype=float32), 50.0) (array([10.322746], dtype=float32), 7.2) (array([20.021095], dtype=float32), 18.7) (array([32.58474], dtype=float32), 37.0) (array([19.689997], dtype=float32), 22.9) (array([25.31861], dtype=float32), 22.9) (array([19.186132], dtype=float32), 17.1) (array([24.46686], dtype=float32), 22.0) (array([30.958788], dtype=float32), 23.6) (array([25.588264], dtype=float32), 23.9) (array([25.747389], dtype=float32), 27.1) (array([34.29649], dtype=float32), 29.0) (array([24.313087], dtype=float32), 22.2) (array([11.461239], dtype=float32), 7.0) (array([23.491817], dtype=float32), 20.7) (array([21.069893], dtype=float32), 18.5) (array([23.835024], dtype=float32), 21.6) (array([24.80129], dtype=float32), 23.0) (array([18.79443], dtype=float32), 16.0) (array([19.01811], dtype=float32), 15.0) (array([25.754847], dtype=float32), 23.9) (array([19.387032], dtype=float32), 24.4) (array([20.688742], dtype=float32), 22.6) (array([19.116488], dtype=float32), 19.8) (array([21.632914], dtype=float32), 22.2) (array([20.057974], dtype=float32), 18.6) (array([19.132545], dtype=float32), 19.7) (array([24.64868], dtype=float32), 23.1) (array([13.651012], dtype=float32), 13.5) (array([21.12599], dtype=float32), 21.2) (array([18.44582], dtype=float32), 23.1) (array([15.091085], dtype=float32), 13.6) (array([28.30301], dtype=float32), 22.8) (array([23.88769], dtype=float32), 18.2) (array([11.43228], dtype=float32), 13.1) (array([18.050663], dtype=float32), 23.2) (array([24.722513], dtype=float32), 22.8) (array([24.724367], dtype=float32), 25.1) (array([21.712767], dtype=float32), 18.9) (array([13.340807], dtype=float32), 10.9) (array([14.090475], dtype=float32), 19.3) (array([20.516573], dtype=float32), 17.4) (array([17.81298], dtype=float32), 15.6) (array([20.300283], dtype=float32), 20.6) (array([29.679794], dtype=float32), 50.0) (array([35.44741], dtype=float32), 32.7) (array([20.972242], dtype=float32), 21.8) (array([16.50192], dtype=float32), 13.4) (array([17.71859], dtype=float32), 16.6) (array([23.342077], dtype=float32), 23.6) (array([12.381731], dtype=float32), 11.0)\n"
     ]
    }
   ],
   "source": [
    "print(*zip(y_pred,y_test))"
   ]
  },
  {
   "cell_type": "code",
   "execution_count": null,
   "id": "fbaee296",
   "metadata": {},
   "outputs": [],
   "source": []
  }
 ],
 "metadata": {
  "kernelspec": {
   "display_name": "Python 3 (ipykernel)",
   "language": "python",
   "name": "python3"
  },
  "language_info": {
   "codemirror_mode": {
    "name": "ipython",
    "version": 3
   },
   "file_extension": ".py",
   "mimetype": "text/x-python",
   "name": "python",
   "nbconvert_exporter": "python",
   "pygments_lexer": "ipython3",
   "version": "3.10.6"
  }
 },
 "nbformat": 4,
 "nbformat_minor": 5
}
